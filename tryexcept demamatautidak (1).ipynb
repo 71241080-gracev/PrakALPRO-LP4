{
 "cells": [
  {
   "cell_type": "code",
   "execution_count": 5,
   "id": "1ef93cc6-8e4f-4d7d-9b31-2963b97c95bd",
   "metadata": {},
   "outputs": [
    {
     "name": "stdin",
     "output_type": "stream",
     "text": [
      "Masukkan suhu tubuh :  dua puluh lima derajat\n"
     ]
    },
    {
     "name": "stdout",
     "output_type": "stream",
     "text": [
      "Input suhu tubuh dengan menggunakan bilangan bulat\n"
     ]
    }
   ],
   "source": [
    "inputpengguna=input(\"Masukkan suhu tubuh : \")\n",
    "try : \n",
    "    suhu=int(inputpengguna)\n",
    "    if suhu >= 38:\n",
    "        print (\"Anda demam\")\n",
    "    else:\n",
    "        print (\"Anda tidak demam\")\n",
    "except :\n",
    "    print (\"Input suhu tubuh dengan menggunakan bilangan bulat\")"
   ]
  },
  {
   "cell_type": "code",
   "execution_count": 6,
   "id": "0ce6eb8f-07be-4599-bdc8-d44230e31433",
   "metadata": {},
   "outputs": [
    {
     "name": "stdin",
     "output_type": "stream",
     "text": [
      "Masukkan suhu tubuh :  100\n"
     ]
    },
    {
     "name": "stdout",
     "output_type": "stream",
     "text": [
      "Anda demam\n"
     ]
    }
   ],
   "source": [
    "inputpengguna=input(\"Masukkan suhu tubuh : \")\n",
    "try : \n",
    "    suhu=int(inputpengguna)\n",
    "    if suhu >= 38:\n",
    "        print (\"Anda demam\")\n",
    "    else:\n",
    "        print (\"Anda tidak demam\")\n",
    "except :\n",
    "    print (\"Input suhu tubuh dengan menggunakan bilangan bulat\")"
   ]
  },
  {
   "cell_type": "code",
   "execution_count": 7,
   "id": "af7944d5-e8e7-4980-a9c5-c6f18ba41cd4",
   "metadata": {},
   "outputs": [
    {
     "name": "stdin",
     "output_type": "stream",
     "text": [
      "Masukkan suhu tubuh :  30\n"
     ]
    },
    {
     "name": "stdout",
     "output_type": "stream",
     "text": [
      "Anda tidak demam\n"
     ]
    }
   ],
   "source": [
    "inputpengguna=input(\"Masukkan suhu tubuh : \")\n",
    "try : \n",
    "    suhu=int(inputpengguna)\n",
    "    if suhu >= 38:\n",
    "        print (\"Anda demam\")\n",
    "    else:\n",
    "        print (\"Anda tidak demam\")\n",
    "except :\n",
    "    print (\"Input suhu tubuh dengan menggunakan bilangan bulat\")"
   ]
  }
 ],
 "metadata": {
  "kernelspec": {
   "display_name": "Python 3 (ipykernel)",
   "language": "python",
   "name": "python3"
  },
  "language_info": {
   "codemirror_mode": {
    "name": "ipython",
    "version": 3
   },
   "file_extension": ".py",
   "mimetype": "text/x-python",
   "name": "python",
   "nbconvert_exporter": "python",
   "pygments_lexer": "ipython3",
   "version": "3.12.7"
  }
 },
 "nbformat": 4,
 "nbformat_minor": 5
}
