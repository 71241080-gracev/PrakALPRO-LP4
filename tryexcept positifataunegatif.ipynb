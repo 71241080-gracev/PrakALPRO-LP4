{
 "cells": [
  {
   "cell_type": "code",
   "execution_count": 1,
   "id": "e46dbc11-b33d-4b76-873e-f923926802a7",
   "metadata": {},
   "outputs": [
    {
     "name": "stdin",
     "output_type": "stream",
     "text": [
      "Masukkan suatu bilangan:  6.1\n"
     ]
    },
    {
     "name": "stdout",
     "output_type": "stream",
     "text": [
      "salah masukin input kocak\n"
     ]
    }
   ],
   "source": [
    "inputbilangan=input(\"Masukkan suatu bilangan: \")\n",
    "try :\n",
    "    bilangan=int(inputbilangan)\n",
    "    if bilangan > 0:\n",
    "        print (\"Positif\")\n",
    "    elif bilangan < 0:\n",
    "        print(\"Negatif\")\n",
    "    elif bilangan==0:\n",
    "        print (\"Nol\")\n",
    "except  :\n",
    "    print (\"salah masukin input kocak\")"
   ]
  },
  {
   "cell_type": "code",
   "execution_count": null,
   "id": "e15f0ae6-9f71-48c6-9e4c-7c55d4cd224c",
   "metadata": {},
   "outputs": [],
   "source": []
  }
 ],
 "metadata": {
  "kernelspec": {
   "display_name": "Python 3 (ipykernel)",
   "language": "python",
   "name": "python3"
  },
  "language_info": {
   "codemirror_mode": {
    "name": "ipython",
    "version": 3
   },
   "file_extension": ".py",
   "mimetype": "text/x-python",
   "name": "python",
   "nbconvert_exporter": "python",
   "pygments_lexer": "ipython3",
   "version": "3.12.7"
  }
 },
 "nbformat": 4,
 "nbformat_minor": 5
}
