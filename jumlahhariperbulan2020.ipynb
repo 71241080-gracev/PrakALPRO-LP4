{
 "cells": [
  {
   "cell_type": "code",
   "execution_count": 8,
   "id": "89e58549-5712-40a0-8ec4-d4a8b436fd1f",
   "metadata": {},
   "outputs": [
    {
     "name": "stdin",
     "output_type": "stream",
     "text": [
      "Masukkan bulan (1-12):  23\n"
     ]
    },
    {
     "name": "stdout",
     "output_type": "stream",
     "text": [
      "Input salah atau bulan tidak valid!\n"
     ]
    }
   ],
   "source": [
    "inputbulan=input(\"Masukkan bulan (1-12): \")\n",
    "try :\n",
    "    bulan=int(inputbulan)\n",
    "    if bulan==1:\n",
    "        print (\"31\")\n",
    "    elif bulan==2:\n",
    "        print (\"29\")\n",
    "    elif bulan==3:\n",
    "        print (\"31\")\n",
    "    elif bulan==4:\n",
    "        print (\"30\")\n",
    "    elif bulan==5:\n",
    "        print (\"31\")\n",
    "    elif bulan==6:\n",
    "        print (\"30\")\n",
    "    elif bulan==7:\n",
    "        print (\"31\")\n",
    "    elif bulan==8:\n",
    "        print (\"31\")\n",
    "    elif bulan==9:\n",
    "        print (\"30\")\n",
    "    elif bulan==10:\n",
    "        print (\"31\")\n",
    "    elif bulan==11:\n",
    "        print (\"30\")\n",
    "    elif bulan==12:\n",
    "        print (\"31\")\n",
    "    else:\n",
    "        print (\"Input salah atau bulan tidak valid!\")\n",
    "except :\n",
    "    print (\"Input harus berupa angka dan sesuai dengan jumlah bulan!\")"
   ]
  },
  {
   "cell_type": "code",
   "execution_count": 10,
   "id": "f8dc31e4-d454-4c3b-89c8-1ed239adb489",
   "metadata": {},
   "outputs": [
    {
     "name": "stdin",
     "output_type": "stream",
     "text": [
      "Masukkan bulan (1-12):  12\n"
     ]
    },
    {
     "name": "stdout",
     "output_type": "stream",
     "text": [
      "31\n"
     ]
    }
   ],
   "source": [
    "inputbulan=input(\"Masukkan bulan (1-12): \")\n",
    "try :\n",
    "    bulan=int(inputbulan)\n",
    "    if bulan==1:\n",
    "        print (\"31\")\n",
    "    elif bulan==2:\n",
    "        print (\"29\")\n",
    "    elif bulan==3:\n",
    "        print (\"31\")\n",
    "    elif bulan==4:\n",
    "        print (\"30\")\n",
    "    elif bulan==5:\n",
    "        print (\"31\")\n",
    "    elif bulan==6:\n",
    "        print (\"30\")\n",
    "    elif bulan==7:\n",
    "        print (\"31\")\n",
    "    elif bulan==8:\n",
    "        print (\"31\")\n",
    "    elif bulan==9:\n",
    "        print (\"30\")\n",
    "    elif bulan==10:\n",
    "        print (\"31\")\n",
    "    elif bulan==11:\n",
    "        print (\"30\")\n",
    "    elif bulan==12:\n",
    "        print (\"31\")\n",
    "    else:\n",
    "        print (\"Input salah atau bulan tidak valid!\")\n",
    "except :\n",
    "    print (\"Input harus berupa angka dan sesuai dengan jumlah bulan!\")"
   ]
  },
  {
   "cell_type": "code",
   "execution_count": 11,
   "id": "2592ee8c-a53d-44f2-be07-be3426d7435e",
   "metadata": {},
   "outputs": [
    {
     "name": "stdin",
     "output_type": "stream",
     "text": [
      "Masukkan bulan (1-12):  enam\n"
     ]
    },
    {
     "name": "stdout",
     "output_type": "stream",
     "text": [
      "Input harus berupa angka dan sesuai dengan jumlah bulan!\n"
     ]
    }
   ],
   "source": [
    "inputbulan=input(\"Masukkan bulan (1-12): \")\n",
    "try :\n",
    "    bulan=int(inputbulan)\n",
    "    if bulan==1:\n",
    "        print (\"31\")\n",
    "    elif bulan==2:\n",
    "        print (\"29\")\n",
    "    elif bulan==3:\n",
    "        print (\"31\")\n",
    "    elif bulan==4:\n",
    "        print (\"30\")\n",
    "    elif bulan==5:\n",
    "        print (\"31\")\n",
    "    elif bulan==6:\n",
    "        print (\"30\")\n",
    "    elif bulan==7:\n",
    "        print (\"31\")\n",
    "    elif bulan==8:\n",
    "        print (\"31\")\n",
    "    elif bulan==9:\n",
    "        print (\"30\")\n",
    "    elif bulan==10:\n",
    "        print (\"31\")\n",
    "    elif bulan==11:\n",
    "        print (\"30\")\n",
    "    elif bulan==12:\n",
    "        print (\"31\")\n",
    "    else:\n",
    "        print (\"Input salah atau bulan tidak valid!\")\n",
    "except :\n",
    "    print (\"Input harus berupa angka dan sesuai dengan jumlah bulan!\")"
   ]
  }
 ],
 "metadata": {
  "kernelspec": {
   "display_name": "Python 3 (ipykernel)",
   "language": "python",
   "name": "python3"
  },
  "language_info": {
   "codemirror_mode": {
    "name": "ipython",
    "version": 3
   },
   "file_extension": ".py",
   "mimetype": "text/x-python",
   "name": "python",
   "nbconvert_exporter": "python",
   "pygments_lexer": "ipython3",
   "version": "3.12.7"
  }
 },
 "nbformat": 4,
 "nbformat_minor": 5
}
