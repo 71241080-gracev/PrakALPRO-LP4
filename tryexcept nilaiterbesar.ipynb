{
 "cells": [
  {
   "cell_type": "code",
   "execution_count": 1,
   "id": "749112f3-d1b7-4823-8162-2b1fba56644a",
   "metadata": {},
   "outputs": [
    {
     "name": "stdin",
     "output_type": "stream",
     "text": [
      "Masukkan bilangan pertama:  sembilan\n",
      "Masukkan bilangan kedua:  1\n",
      "Masukkan bilangan ketiga:  3\n"
     ]
    },
    {
     "name": "stdout",
     "output_type": "stream",
     "text": [
      "salah masukin input\n"
     ]
    }
   ],
   "source": [
    "inputa=input(\"Masukkan bilangan pertama: \")\n",
    "inputb=input(\"Masukkan bilangan kedua: \")\n",
    "inputc=input(\"Masukkan bilangan ketiga: \")\n",
    "try :\n",
    "    a=int(inputa)\n",
    "    b=int(inputb)\n",
    "    c=int(inputc)\n",
    "    if a > b and a > c:\n",
    "        print (\"Terbesar: \", a)\n",
    "    elif b > a and b > c:\n",
    "        print (\"Terbesar: \", b)\n",
    "    elif c > a and c > b:\n",
    "        print (\"Terbesar: \", c)\n",
    "except :\n",
    "    print (\"salah masukin input\")"
   ]
  },
  {
   "cell_type": "code",
   "execution_count": 2,
   "id": "13c8c135-be52-43b4-9f81-153ee678fabf",
   "metadata": {},
   "outputs": [
    {
     "name": "stdin",
     "output_type": "stream",
     "text": [
      "Masukkan bilangan pertama:  1\n",
      "Masukkan bilangan kedua:  9\n",
      "Masukkan bilangan ketiga:  4\n"
     ]
    },
    {
     "name": "stdout",
     "output_type": "stream",
     "text": [
      "Terbesar:  9\n"
     ]
    }
   ],
   "source": [
    "inputa=input(\"Masukkan bilangan pertama: \")\n",
    "inputb=input(\"Masukkan bilangan kedua: \")\n",
    "inputc=input(\"Masukkan bilangan ketiga: \")\n",
    "try :\n",
    "    a=int(inputa)\n",
    "    b=int(inputb)\n",
    "    c=int(inputc)\n",
    "    if a > b and a > c:\n",
    "        print (\"Terbesar: \", a)\n",
    "    elif b > a and b > c:\n",
    "        print (\"Terbesar: \", b)\n",
    "    elif c > a and c > b:\n",
    "        print (\"Terbesar: \", c)\n",
    "except :\n",
    "    print (\"salah masukin input\")"
   ]
  }
 ],
 "metadata": {
  "kernelspec": {
   "display_name": "Python 3 (ipykernel)",
   "language": "python",
   "name": "python3"
  },
  "language_info": {
   "codemirror_mode": {
    "name": "ipython",
    "version": 3
   },
   "file_extension": ".py",
   "mimetype": "text/x-python",
   "name": "python",
   "nbconvert_exporter": "python",
   "pygments_lexer": "ipython3",
   "version": "3.12.7"
  }
 },
 "nbformat": 4,
 "nbformat_minor": 5
}
